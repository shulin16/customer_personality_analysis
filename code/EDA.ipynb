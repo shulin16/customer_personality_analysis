{
 "cells": [
  {
   "cell_type": "markdown",
   "metadata": {},
   "source": [
    "# EDA && Visualization"
   ]
  },
  {
   "cell_type": "markdown",
   "metadata": {},
   "source": [
    "### 1) Box-Plot + Histogram + Density"
   ]
  },
  {
   "cell_type": "code",
   "execution_count": null,
   "metadata": {},
   "outputs": [],
   "source": [
    "custdata.info()"
   ]
  },
  {
   "cell_type": "code",
   "execution_count": null,
   "metadata": {},
   "outputs": [],
   "source": [
    "numeric_data = pd.DataFrame(custdata[[\"Age\",\"Income\", \"Children\", \"Family_Size\", \"MntWines\", \"MntFruits\",\"MntMeatProducts\", 'MntFishProducts',\n",
    "            'MntSweetProducts', 'MntGoldProds',\"Spent\", 'NumDealsPurchases','NumWebPurchases']])"
   ]
  },
  {
   "cell_type": "code",
   "execution_count": null,
   "metadata": {},
   "outputs": [],
   "source": [
    "numeric_data.describe().round(2)"
   ]
  },
  {
   "cell_type": "code",
   "execution_count": null,
   "metadata": {},
   "outputs": [],
   "source": [
    "# Draw the distributions of all variables\n",
    "f, axes = plt.subplots(13, 3, figsize=(18, 55))\n",
    "\n",
    "count = 0\n",
    "for var in numeric_data:\n",
    "    sb.boxplot(data = numeric_data[var], orient = \"h\", ax = axes[count,0])\n",
    "    sb.histplot(data = numeric_data[var], ax = axes[count,1])\n",
    "    sb.violinplot(data = numeric_data[var], orient = \"h\", ax = axes[count,2])\n",
    "    count += 1"
   ]
  },
  {
   "cell_type": "markdown",
   "metadata": {},
   "source": [
    "### 2) HeatMap"
   ]
  },
  {
   "cell_type": "code",
   "execution_count": null,
   "metadata": {},
   "outputs": [],
   "source": [
    "# Finding the correlation between the feature column\n",
    "\n",
    "plt.figure(figsize=(20,20))\n",
    "sb.heatmap(custdata.corr(), annot=True,linewidths=.5)\n",
    "\n",
    "plt.show()"
   ]
  },
  {
   "cell_type": "code",
   "execution_count": null,
   "metadata": {},
   "outputs": [],
   "source": [
    "plt.figure(figsize=(20,20))\n",
    "sb.heatmap(numeric_data.corr(), vmin = -1, vmax = 1, linewidths = 1,\n",
    "           annot = True, fmt = \".2f\", annot_kws = {\"size\": 18}, cmap = \"RdBu\")"
   ]
  },
  {
   "cell_type": "code",
   "execution_count": null,
   "metadata": {},
   "outputs": [],
   "source": [
    "# Checking for correlation by unstacking data\n",
    "\n",
    "corr = custdata.corr()\n",
    "c1 = corr.abs().unstack()\n",
    "c1.sort_values(ascending = False)[24:50:2]"
   ]
  },
  {
   "cell_type": "markdown",
   "metadata": {},
   "source": [
    "### 3) Categoric Distribution"
   ]
  },
  {
   "cell_type": "code",
   "execution_count": null,
   "metadata": {},
   "outputs": [],
   "source": [
    "custdata.head()"
   ]
  },
  {
   "cell_type": "code",
   "execution_count": null,
   "metadata": {},
   "outputs": [],
   "source": [
    "catData1 = pd.DataFrame(custdata[['Living_With', 'Education']])\n",
    "catData1.head()"
   ]
  },
  {
   "cell_type": "code",
   "execution_count": null,
   "metadata": {},
   "outputs": [],
   "source": [
    "catData2 = pd.DataFrame(custdata[['Kidhome', 'Teenhome','Children']])\n",
    "catData2.head()"
   ]
  },
  {
   "cell_type": "code",
   "execution_count": null,
   "metadata": {},
   "outputs": [],
   "source": [
    "sb.catplot(y = 'Living_With', data = catData1, kind = \"count\", height = 6, aspect= 3)"
   ]
  },
  {
   "cell_type": "code",
   "execution_count": null,
   "metadata": {},
   "outputs": [],
   "source": [
    "sb.catplot(y = 'Education', data = catData1, kind = \"count\", height = 6, aspect= 3)"
   ]
  },
  {
   "cell_type": "code",
   "execution_count": null,
   "metadata": {},
   "outputs": [],
   "source": [
    "sb.catplot(y = 'Kidhome', data = catData2, kind = \"count\", height = 3, aspect= 3)\n",
    "sb.catplot(y = 'Teenhome', data = catData2, kind = \"count\", height = 3, aspect= 3)\n",
    "sb.catplot(y = 'Children' , data = catData2, kind = \"count\", height = 3, aspect= 3)"
   ]
  },
  {
   "cell_type": "markdown",
   "metadata": {},
   "source": [
    "### 4) Distribution Plot"
   ]
  },
  {
   "cell_type": "code",
   "execution_count": null,
   "metadata": {},
   "outputs": [],
   "source": [
    "# Distribution plot for MntProduct\n",
    "MntProduct_data = pd.DataFrame(custdata[[\"MntWines\",\"MntFruits\",\"MntMeatProducts\",\"MntFishProducts\",\"MntSweetProducts\",\"MntGoldProds\"]])\n",
    "\n",
    "f = plt.subplots(figsize=(20, 10))\n",
    "sb.kdeplot(data = MntProduct_data)"
   ]
  },
  {
   "cell_type": "code",
   "execution_count": null,
   "metadata": {},
   "outputs": [],
   "source": [
    "# remove outliers => zoom in?\n",
    "from scipy.stats import zscore\n",
    "z_scores = zscore(MntProduct_data)\n",
    "abs_z_scores = np.abs(z_scores)\n",
    "filtered_entries = (abs_z_scores < 0.5).all(axis = 1)\n",
    "new_MntProduct_data = MntProduct_data[filtered_entries]\n",
    "f = plt.subplots(figsize=(20, 10))\n",
    "sb.kdeplot(data = new_MntProduct_data)"
   ]
  },
  {
   "cell_type": "code",
   "execution_count": null,
   "metadata": {},
   "outputs": [],
   "source": [
    "# Distribution plot for purchasing places\n",
    "NumPurchasePlace_data = pd.DataFrame(custdata[[\"NumWebPurchases\",\"NumCatalogPurchases\",\"NumStorePurchases\"]])\n",
    "f = plt.subplots(figsize=(20, 10))\n",
    "sb.kdeplot(data = NumPurchasePlace_data, fill=True, common_norm=False, palette=\"crest\",\n",
    "   alpha=.5, linewidth=0)"
   ]
  },
  {
   "cell_type": "markdown",
   "metadata": {},
   "source": [
    "For most customers, they bought products more often in stores"
   ]
  },
  {
   "cell_type": "code",
   "execution_count": null,
   "metadata": {},
   "outputs": [],
   "source": [
    "# Distribution plot for Number of Purchases with a discount\n",
    "f = plt.subplots(figsize=(20, 10))\n",
    "sb.histplot(data = custdata['NumDealsPurchases'])"
   ]
  },
  {
   "cell_type": "markdown",
   "metadata": {},
   "source": [
    "Most customers only had 1 purchase with a discount"
   ]
  },
  {
   "cell_type": "code",
   "execution_count": null,
   "metadata": {},
   "outputs": [],
   "source": [
    "# Tried finding correlation between income and NumDealsPurchases...\n",
    "Discount_Income = pd.DataFrame(custdata[[\"NumDealsPurchases\",\"Income\"]])\n",
    "sb.regplot(y=Discount_Income[\"Income\"], x=Discount_Income[\"NumDealsPurchases\"])"
   ]
  },
  {
   "cell_type": "code",
   "execution_count": null,
   "metadata": {},
   "outputs": [],
   "source": [
    "# Tried finding correlation between income and total spent...\n",
    "Spent_Income = pd.DataFrame(custdata[[\"Spent\",\"Income\"]])\n",
    "sb.regplot(y=Spent_Income[\"Spent\"], x=Spent_Income[\"Income\"])"
   ]
  },
  {
   "cell_type": "markdown",
   "metadata": {},
   "source": [
    "We can infer that income and NumDealsPurchases do not have strong correlation while income and total spent have strong positive correlation. People with higher income tend to spend more."
   ]
  }
 ],
 "metadata": {
  "language_info": {
   "name": "python"
  },
  "orig_nbformat": 4
 },
 "nbformat": 4,
 "nbformat_minor": 2
}
