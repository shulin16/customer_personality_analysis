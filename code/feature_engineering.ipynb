{
 "cells": [
  {
   "cell_type": "code",
   "execution_count": null,
   "metadata": {},
   "outputs": [],
   "source": [
    "# Importing the Libraries\n",
    "\n",
    "import numpy as np\n",
    "import pandas as pd\n",
    "import seaborn as sb\n",
    "import matplotlib as mpl\n",
    "import matplotlib.pyplot as plt # we only need pyplot\n",
    "sb.set() # set the default Seaborn style for graphics\n",
    "\n",
    "from sklearn.preprocessing import LabelEncoder\n",
    "from sklearn.preprocessing import StandardScaler\n",
    "from sklearn.decomposition import PCA\n",
    "\n",
    "from plotly.offline import download_plotlyjs, init_notebook_mode, plot, iplot\n",
    "#pip install cufflinks\n",
    "import cufflinks as cf\n",
    "cf.go_offline()\n",
    "cf.set_config_file(offline=True, world_readable=True)\n",
    "\n",
    "import warnings\n",
    "warnings.filterwarnings('ignore')"
   ]
  },
  {
   "cell_type": "code",
   "execution_count": null,
   "metadata": {},
   "outputs": [],
   "source": [
    "# Loading the dataset\n",
    "main_df = pd.read_csv('marketing_campaign.csv', delimiter = '\\t')\n",
    "custdata = main_df.copy()\n",
    "custdata.head()"
   ]
  },
  {
   "cell_type": "markdown",
   "metadata": {},
   "source": [
    "# Data Preparation\n",
    "## 1. Data Cleaning"
   ]
  },
  {
   "cell_type": "code",
   "execution_count": null,
   "metadata": {},
   "outputs": [],
   "source": [
    "#Information on features \n",
    "custdata.info()"
   ]
  },
  {
   "cell_type": "code",
   "execution_count": null,
   "metadata": {},
   "outputs": [],
   "source": [
    "custdata.isna().any()"
   ]
  },
  {
   "cell_type": "code",
   "execution_count": null,
   "metadata": {},
   "outputs": [],
   "source": [
    "# Remove the NA values in income attribute\n",
    "custdata = custdata.dropna()\n",
    "custdata = custdata.dropna().reset_index(drop = True)\n",
    "print(\"The total number of data-points after removing the rows with missing values are:\", len(custdata))"
   ]
  },
  {
   "cell_type": "code",
   "execution_count": null,
   "metadata": {},
   "outputs": [],
   "source": [
    "# Age of customers\n",
    "import datetime\n",
    "for i in range(2216):\n",
    "    #transform Dt_customer to standard timestamp\n",
    "    custdata['Dt_Customer'][i] = datetime.datetime.strptime(str(custdata['Dt_Customer'][i]), \"%d-%m-%Y\").strftime(\"%Y-%m-%d\") \n",
    "    # access the YYYY of timestamp\n",
    "    custdata['Dt_Customer'][i] = int(str(custdata['Dt_Customer'][i]).split('-')[0]) \n",
    "    \n",
    "custdata[\"Age\"] = custdata[\"Dt_Customer\"] - custdata[\"Year_Birth\"]\n",
    "custdata[\"Age\"] = custdata[\"Age\"].astype(int)\n",
    "custdata.info()"
   ]
  },
  {
   "cell_type": "code",
   "execution_count": null,
   "metadata": {},
   "outputs": [],
   "source": [
    "custdata.describe()"
   ]
  },
  {
   "cell_type": "markdown",
   "metadata": {},
   "source": [
    "**1. Age**"
   ]
  },
  {
   "cell_type": "markdown",
   "metadata": {},
   "source": [
    "# Drop outliers of age by calculating Z-Score\n",
    "\n",
    "from scipy import stats\n",
    "\n",
    "custdata[\"z_value_age\"] = np.abs(stats.zscore(custdata[\"Age\"]))\n",
    "custdata[\"z_value_age\"]"
   ]
  },
  {
   "cell_type": "code",
   "execution_count": null,
   "metadata": {},
   "outputs": [],
   "source": [
    "threshold = 3\n",
    "z1  = np.abs(stats.zscore(custdata[\"Age\"]))\n",
    "np.where(z1>3)"
   ]
  },
  {
   "cell_type": "code",
   "execution_count": null,
   "metadata": {},
   "outputs": [],
   "source": [
    "custdata.iloc[np.where(z1>3)]"
   ]
  },
  {
   "cell_type": "code",
   "execution_count": null,
   "metadata": {},
   "outputs": [],
   "source": [
    "# Remove rows with z_value_age > 3\n",
    "custdata = custdata.drop(custdata[custdata.z_value_age > 3].index)\n",
    "\n",
    "# Reset the index to [0:2212]\n",
    "custdata = custdata.reset_index(drop=True)\n",
    "custdata.shape"
   ]
  },
  {
   "cell_type": "markdown",
   "metadata": {},
   "source": [
    "**2. Income**"
   ]
  },
  {
   "cell_type": "code",
   "execution_count": null,
   "metadata": {},
   "outputs": [],
   "source": [
    "# Drop outliers of income by calculating Z-Score\n",
    "custdata[\"z_value_income\"] = np.abs(stats.zscore(custdata[\"Income\"]))\n",
    "custdata[\"z_value_income\"]"
   ]
  },
  {
   "cell_type": "code",
   "execution_count": null,
   "metadata": {},
   "outputs": [],
   "source": [
    "threshold = 3\n",
    "z2  = np.abs(stats.zscore(custdata[\"Income\"]))\n",
    "np.where(z2>3)"
   ]
  },
  {
   "cell_type": "code",
   "execution_count": null,
   "metadata": {},
   "outputs": [],
   "source": [
    "custdata.iloc[np.where(z2>3)]"
   ]
  },
  {
   "cell_type": "markdown",
   "metadata": {},
   "source": [
    "Clearly, the income of 150k~160k is customers with very high income, however, there is one customer whose income is 666666.0 should be an outlier."
   ]
  },
  {
   "cell_type": "code",
   "execution_count": null,
   "metadata": {},
   "outputs": [],
   "source": [
    "# Remove rows with z_value_age > 5\n",
    "custdata = custdata.drop(custdata[custdata.z_value_income > 5].index)\n",
    "\n",
    "# Reset the index to [0:2212]\n",
    "custdata = custdata.reset_index(drop=True)\n",
    "custdata.shape"
   ]
  },
  {
   "cell_type": "code",
   "execution_count": null,
   "metadata": {},
   "outputs": [],
   "source": [
    "# set a grey background (use sns.set_theme() if seaborn version 0.11.0 or above) \n",
    "sb.set(style=\"darkgrid\")\n",
    " \n",
    "# creating a figure composed of two matplotlib.Axes objects (ax_box and ax_hist)\n",
    "f, (ax_box, ax_hist) = plt.subplots(2, sharex=True, gridspec_kw={\"height_ratios\": (.15, .85)},)\n",
    " \n",
    "# assigning a graph to each ax\n",
    "sb.boxplot(custdata[\"Age\"], ax=ax_box)\n",
    "sb.histplot(data=custdata, x=\"Age\", ax=ax_hist)\n",
    " \n",
    "# Remove x axis name for the boxplot\n",
    "ax_box.set(xlabel='')\n",
    "plt.show()"
   ]
  },
  {
   "cell_type": "code",
   "execution_count": null,
   "metadata": {},
   "outputs": [],
   "source": [
    "# Checking for correlation by unstacking data\n",
    "\n",
    "corr = custdata.corr()\n",
    "c1 = corr.abs().unstack()\n",
    "c1.sort_values(ascending = False)[24:50:2]"
   ]
  },
  {
   "cell_type": "markdown",
   "metadata": {},
   "source": [
    "## 2. Feature Engineering"
   ]
  },
  {
   "cell_type": "code",
   "execution_count": null,
   "metadata": {},
   "outputs": [],
   "source": [
    "#Total spendings on various items\n",
    "custdata[\"Spent\"] = custdata[\"MntWines\"]+ custdata[\"MntFruits\"]+ custdata[\"MntMeatProducts\"]+ custdata[\"MntFishProducts\"]+ custdata[\"MntSweetProducts\"]+ custdata[\"MntGoldProds\"]\n",
    "\n",
    "#Deriving living situation by marital status\"Alone\"\n",
    "custdata[\"Living_With\"]=custdata[\"Marital_Status\"].replace({\"Married\":\"Partner\", \"Together\":\"Partner\", \"Absurd\":\"Alone\", \"Widow\":\"Alone\", \"YOLO\":\"Alone\", \"Divorced\":\"Alone\", \"Single\":\"Alone\",})\n",
    "\n",
    "#Feature indicating total children living in the household\n",
    "custdata[\"Children\"]=custdata[\"Kidhome\"]+custdata[\"Teenhome\"]\n",
    "\n",
    "#Feature for total members in the householde\n",
    "custdata[\"Family_Size\"] = custdata[\"Living_With\"].replace({\"Alone\": 1, \"Partner\":2})+ custdata[\"Children\"]\n",
    "\n",
    "#Feature pertaining parenthood\n",
    "custdata[\"Is_Parent\"] = np.where(custdata.Children> 0, 1, 0)\n",
    "\n",
    "#Segmenting education levels in three groups\n",
    "custdata[\"Education\"]=custdata[\"Education\"].replace({\"Basic\":\"Undergraduate\",\"2n Cycle\":\"Undergraduate\", \"Graduation\":\"Graduate\", \"Master\":\"Postgraduate\", \"PhD\":\"Postgraduate\"})\n",
    "\n",
    "#Dropping some of the redundant features\n",
    "to_drop = [\"ID\", \"Year_Birth\", \"Marital_Status\", \"Dt_Customer\", \"Z_CostContact\", \"Z_Revenue\", \"z_value_age\", \"z_value_income\"]\n",
    "custdata = custdata.drop(to_drop, axis=1)"
   ]
  },
  {
   "cell_type": "code",
   "execution_count": null,
   "metadata": {},
   "outputs": [],
   "source": [
    "custdata.info()"
   ]
  }
 ],
 "metadata": {
  "interpreter": {
   "hash": "d384f0f18328240d0928280347cfb78736e05d9a9aa36c8d9130fa22718fb343"
  },
  "kernelspec": {
   "display_name": "Python 3.10.1 64-bit",
   "language": "python",
   "name": "python3"
  },
  "language_info": {
   "name": "python",
   "version": "3.9.10"
  },
  "orig_nbformat": 4
 },
 "nbformat": 4,
 "nbformat_minor": 2
}
